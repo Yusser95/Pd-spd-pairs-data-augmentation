{
 "cells": [
  {
   "cell_type": "code",
   "execution_count": 1,
   "metadata": {},
   "outputs": [],
   "source": [
    "import os\n",
    "from bs4 import BeautifulSoup \n",
    "from collections import defaultdict\n",
    "import json\n",
    "\n",
    "    \n",
    "base_dir = '/Users/mac/Desktop/dss master thisis/bpmn-for-research-master/Text2Process-master/TestData'\n",
    "\n",
    "all_nodes = []\n",
    "bpmn_element = defaultdict(list)\n",
    "for root, dirs, files in os.walk(base_dir):\n",
    "    for f in files:\n",
    "        if f.endswith('.model'):\n",
    "            xml_file = os.path.join(root, f)\n",
    "#             print(xml_file)\n",
    "            \n",
    "            # Reading the data inside the xml file to a variable under the name  data\n",
    "            with open(xml_file, 'r') as f:\n",
    "                data = f.read() \n",
    "\n",
    "            # Passing the stored data inside the beautifulsoup parser \n",
    "            bs_data = BeautifulSoup(data, 'xml') \n",
    "            \n",
    "            nodes = bs_data.find_all('node')\n",
    "            for node in nodes:\n",
    "                properties = node.find('property', {'name':'#type'})\n",
    "                if properties:\n",
    "                    all_nodes.append(node)\n",
    "                    k = properties.get('value').split('.')[-1]\n",
    "                    v = node.find('property', {'name':'text'}).get('value')\n",
    "                    bpmn_element[k].append(v)\n",
    "# bpmn_element\n",
    "\n",
    "bpmn_element = {k:list(set(bpmn_element[k])) for k in bpmn_element}\n",
    "for k in bpmn_element:\n",
    "    if '' in bpmn_element[k]:\n",
    "        bpmn_element[k].remove('')\n",
    "bpmn_element2 = bpmn_element.copy()\n",
    "for k in bpmn_element2:\n",
    "    if bpmn_element2[k] == []:\n",
    "        del bpmn_element[k]\n",
    "        \n",
    "# bpmn_element\n",
    "\n",
    "bpmn_elements = {}\n",
    "bpmn_elements['activities'] = bpmn_element['Task']\n",
    "bpmn_elements['onjects'] = bpmn_element['DataObject']\n",
    "bpmn_elements['Es'] = bpmn_element['MessageStartEvent']\n",
    "bpmn_elements['Ee'] = bpmn_element['EndEvent']\n",
    "bpmn_elements['Ei'] = bpmn_element['MessageIntermediateEvent']\n",
    "bpmn_elements['roles'] = bpmn_element['Lane']\n",
    "bpmn_elements['roles'].extend(bpmn_element['Pool'])\n",
    "\n",
    "# bpmn_elements\n",
    "\n",
    "with open('./bpmn_elements.json','w') as f:\n",
    "    json.dump(bpmn_elements,f)"
   ]
  },
  {
   "cell_type": "code",
   "execution_count": null,
   "metadata": {},
   "outputs": [],
   "source": []
  }
 ],
 "metadata": {
  "kernelspec": {
   "display_name": "Python 3",
   "language": "python",
   "name": "python3"
  },
  "language_info": {
   "codemirror_mode": {
    "name": "ipython",
    "version": 3
   },
   "file_extension": ".py",
   "mimetype": "text/x-python",
   "name": "python",
   "nbconvert_exporter": "python",
   "pygments_lexer": "ipython3",
   "version": "3.7.7"
  }
 },
 "nbformat": 4,
 "nbformat_minor": 4
}
